{
  "cells": [
    {
      "cell_type": "markdown",
      "metadata": {
        "id": "view-in-github",
        "colab_type": "text"
      },
      "source": [
        "<a href=\"https://colab.research.google.com/github/eliasmunizdev/ml-challenge/blob/main/Customers_and_orders_Elias_Muniz.ipynb\" target=\"_parent\"><img src=\"https://colab.research.google.com/assets/colab-badge.svg\" alt=\"Open In Colab\"/></a>"
      ]
    },
    {
      "cell_type": "markdown",
      "source": [
        "\n",
        "## Name : Elías, Muñiz Adaro"
      ],
      "metadata": {
        "id": "5hUc7wrF2ejM"
      }
    },
    {
      "cell_type": "markdown",
      "metadata": {
        "id": "piiX_CRNFYUi"
      },
      "source": [
        "# Technical Challenge ! Custiomers and Orders - The lifeblood of any business!\n",
        "\n",
        "This notebook depends on two data files: customers.scv and orders.csv. These files are hosted in the cloud (or Github), so for simplicity, we are providing you with the code to download and save the two files in a folder called 'sample_data' which lives within this notebook session (not on your local computer nor Google Drive).\n",
        "\n",
        "![sample_data folder in notebook session](https://raw.githubusercontent.com/anyoneai/notebooks/main/customers_and_orders/images/sample_data_folder.png)\n",
        "\n",
        "Please execute the first code snippet before moving to the rest of the exercise as this code will import the data from the files for you to be able to execute the rest of the exercise.\n",
        "\n",
        "Remember as we said in the previous lecture, you have to save this notebook into your Google Drive by going to menu File/Save a Copy In Drive, or clicking in the button \"Copy to Drive\". This way, you will not lose any work you've done and the file will persist with your latest changes in your Google Drive. Also we recommend you to rename your .ipynb in your Google Drive, so you can easily find it in the future."
      ]
    },
    {
      "cell_type": "code",
      "execution_count": 8,
      "metadata": {
        "colab": {
          "base_uri": "https://localhost:8080/"
        },
        "id": "MWpVO242FQHC",
        "outputId": "79ca8249-991f-4cfa-e400-e5a3c7a452a3"
      },
      "outputs": [
        {
          "output_type": "stream",
          "name": "stdout",
          "text": [
            "Customers and orders CSV files have been added './sample_data'\n"
          ]
        }
      ],
      "source": [
        "import requests\n",
        "\n",
        "def import_data_files():\n",
        "  r = requests.get('https://raw.githubusercontent.com/anyoneai/notebooks/main/customers_and_orders/data/customers.csv')\n",
        "  with open('./sample_data/customers.csv', 'wb') as f:\n",
        "    f.write(r.content)\n",
        "\n",
        "  r = requests.get('https://raw.githubusercontent.com/anyoneai/notebooks/main/customers_and_orders/data/orders.csv')\n",
        "  with open('./sample_data/orders.csv', 'wb') as f:\n",
        "    f.write(r.content)\n",
        "  \n",
        "import_data_files()\n",
        "print(\"Customers and orders CSV files have been added './sample_data'\")"
      ]
    },
    {
      "cell_type": "markdown",
      "metadata": {
        "id": "JQAduY-RWKyB"
      },
      "source": [
        "# Exercise 1: Processing Customers data (difficulty medium)\n",
        "\n",
        "The sample customer data in 'customers.csv' file has just 5 columns: CustomerId, First Name, Last Name, City and State\n",
        "\n",
        "![Data sample](https://raw.githubusercontent.com/anyoneai/notebooks/main/customers_and_orders/images/customers.png)\n",
        "\n",
        "We strongly recommend that you complete from the [Prep Course: Intro to Python](https://colab.research.google.com/github/anyoneai/notebooks/blob/main/python3_crash_course.ipynb) the following section:\n",
        "- Section 7: File I/O (to understand how to read CSV file) \n",
        "- Section 6: For Loop (to navigate the contents of the CSV file)\n",
        "- Section 5: Tuples, Lists, and Dictionaries (to manipulate the data of the CSV file)\n",
        "\n",
        "With this, we hope you can complete this exercise successfully. Although if you want to solve this with libraries or any other way, you are welcome to do it your way.\n",
        "\n",
        "*Hint:* We advise you to take a look at the data before you start.\n",
        "**if you want to manually take a look at the data before you start, please see the content of the data [here](https://github.com/anyoneai/notebooks/blob/main/customers_and_orders/data/customers.csv).\n",
        "\n",
        "*Hint*: There are many ways to do this exercise you can do your own, although here's some help. You can solve this exercise reading and parsing CSV files, structuring data into dictionaries, and using for loops to navigate the contents\n",
        "\n",
        "*Hint*: Also, keep in mind that data might not be clean and you might have to figure out how to deal with that data from the code, without having to modify the data source.\n",
        "\n",
        "Below are the 5 questions you'll have to answer to pass the evaluation:"
      ]
    },
    {
      "cell_type": "markdown",
      "metadata": {
        "id": "kJq7S8sBfbOW"
      },
      "source": [
        "**Question 1:** How many customers are in the file?\n",
        "(as help, we have added some comments and starter code to help you structure the solution)"
      ]
    },
    {
      "cell_type": "code",
      "execution_count": 122,
      "metadata": {
        "colab": {
          "base_uri": "https://localhost:8080/"
        },
        "id": "oMnUFBFb2RUb",
        "outputId": "1f9c398e-a485-4d16-b9fd-ad93f007dd93"
      },
      "outputs": [
        {
          "output_type": "stream",
          "name": "stdout",
          "text": [
            "Number of customers 471\n",
            "All done!\n"
          ]
        }
      ],
      "source": [
        "from os.path import exists\n",
        "import pandas as pd\n",
        "\n",
        "# check if file can be found and open the file\n",
        "datafile = \"./sample_data/customers.csv\"\n",
        "if not exists(datafile):\n",
        "  raise SystemExit(\"You should run the first code cell and download the dataset files!\")\n",
        "\n",
        "# load dataframe\n",
        "df_customers = pd.read_csv(datafile)\n",
        "\n",
        "#------------------------------------------------------------------------------------------\n",
        "# 1- count customers in fileorders.csv\n",
        "customers_count = df_customers['CustomerID'].nunique()\n",
        "print(\"Number of customers\", customers_count)\n",
        "\n",
        "print(\"All done!\")"
      ]
    },
    {
      "cell_type": "markdown",
      "metadata": {
        "id": "uffBnNgz_570"
      },
      "source": [
        "**Question 2:** In how many different states do the customers live in?"
      ]
    },
    {
      "cell_type": "code",
      "execution_count": 118,
      "metadata": {
        "id": "Bi_yid0sMe3-",
        "colab": {
          "base_uri": "https://localhost:8080/"
        },
        "outputId": "c359419e-8db7-422e-9b0c-01c9244005c6"
      },
      "outputs": [
        {
          "output_type": "stream",
          "name": "stdout",
          "text": [
            "Number of states 14\n",
            "All done!\n"
          ]
        }
      ],
      "source": [
        "from os.path import exists\n",
        "import pandas as pd\n",
        "\n",
        "# check if file can be found and open the file\n",
        "datafile = \"./sample_data/customers.csv\"\n",
        "if not exists(datafile):\n",
        "  raise SystemExit(\"You should run the first code cell and download the dataset files!\")\n",
        "\n",
        "# load dataframe\n",
        "df_customers = pd.read_csv(datafile)\n",
        "\n",
        "#------------------------------------------------------------------------------------------\n",
        "# 2- Count the different states from the customers\n",
        "\n",
        "# the first time I printed the states I noticed that CA was repeated 3 times, \n",
        "# so I made a function to clean the string from state\n",
        "def cleanString(str):\n",
        "  return str.strip().upper()\n",
        "\n",
        "# first I convert the \"Date\" column to a datetime datatype, this will help to get the month \n",
        "df_customers['State'] = df_customers['State'].apply(cleanString)\n",
        "\n",
        "states_count = df_customers.groupby('State')['CustomerID'].nunique().count()\n",
        "print(\"Number of states\", states_count)\n",
        "\n",
        "\n",
        "print(\"All done!\")"
      ]
    },
    {
      "cell_type": "markdown",
      "metadata": {
        "id": "DC59SZYiMfNY"
      },
      "source": [
        "**Question 3** What is the state with most customers?"
      ]
    },
    {
      "cell_type": "code",
      "execution_count": 131,
      "metadata": {
        "id": "tfGU3w-OMhA9",
        "colab": {
          "base_uri": "https://localhost:8080/"
        },
        "outputId": "d47bfb65-849a-4ca5-9f61-28721435970f"
      },
      "outputs": [
        {
          "output_type": "stream",
          "name": "stdout",
          "text": [
            "The state with most customers is:  ['CA']\n",
            "All done!\n"
          ]
        }
      ],
      "source": [
        "from os.path import exists\n",
        "import pandas as pd\n",
        "\n",
        "# check if file can be found and open the file\n",
        "datafile = \"./sample_data/customers.csv\"\n",
        "if not exists(datafile):\n",
        "  raise SystemExit(\"You should run the first code cell and download the dataset files!\")\n",
        "\n",
        "# load dataframe\n",
        "df_customers = pd.read_csv(datafile)\n",
        "\n",
        "#------------------------------------------------------------------------------------------\n",
        "# 3- Get the state with most customers\n",
        "\n",
        "def cleanString(str):\n",
        "  return str.strip().upper()\n",
        "\n",
        "# clean State column\n",
        "df_customers['State'] = df_customers['State'].apply(cleanString)\n",
        "\n",
        "# get number of customers by state with value counts\n",
        "customer_by_state = df_customers['State'].value_counts().sort_values()\n",
        "\n",
        "# find the state with most customers\n",
        "min_customers = customer_by_state.max()\n",
        "states_most_customers = customer_by_state[customer_by_state == min_customers].index.tolist()\n",
        "\n",
        "\n",
        "print(\"The state/s with most customers is/are\", states_most_customers)\n",
        "print(\"All done!\")\n",
        "\n"
      ]
    },
    {
      "cell_type": "markdown",
      "metadata": {
        "id": "7mcM6cUAMhLB"
      },
      "source": [
        "**Question 4** What is the state with the least customers?"
      ]
    },
    {
      "cell_type": "code",
      "execution_count": 133,
      "metadata": {
        "id": "8T0Ka2RqMi3P",
        "colab": {
          "base_uri": "https://localhost:8080/"
        },
        "outputId": "f3b1cdb7-55ad-416d-d312-8e238087c338"
      },
      "outputs": [
        {
          "output_type": "stream",
          "name": "stdout",
          "text": [
            "The state with least customers is: ['WA', 'NH', 'ID', 'OR', 'MA', 'IN']\n",
            "All done!\n"
          ]
        }
      ],
      "source": [
        "from os.path import exists\n",
        "import pandas as pd\n",
        "\n",
        "# check if file can be found and open the file\n",
        "datafile = \"./sample_data/customers.csv\"\n",
        "if not exists(datafile):\n",
        "  raise SystemExit(\"You should run the first code cell and download the dataset files!\")\n",
        "\n",
        "# load dataframe\n",
        "df_customers = pd.read_csv(datafile)\n",
        "\n",
        "#------------------------------------------------------------------------------------------\n",
        "# 4- Get the state with the least customers\n",
        "\n",
        "def cleanString(str):\n",
        "  return str.strip().upper()\n",
        "\n",
        "# clean State column\n",
        "df_customers['State'] = df_customers['State'].apply(cleanString)\n",
        "\n",
        "# get number of customers by state with value counts\n",
        "customer_by_state = df_customers['State'].value_counts().sort_values()\n",
        "\n",
        "# find the state with least customers\n",
        "min_customers = customer_by_state.min()\n",
        "states_least_customers = customer_by_state[customer_by_state == min_customers].index.tolist()\n",
        "\n",
        "print(\"The state/s with least customers is/are:\", states_least_customers)\n",
        "print(\"All done!\")\n"
      ]
    },
    {
      "cell_type": "markdown",
      "metadata": {
        "id": "h6fIy7hXHF6A"
      },
      "source": [
        "**Question 5:** What is the most common last name?"
      ]
    },
    {
      "cell_type": "code",
      "execution_count": 142,
      "metadata": {
        "id": "k8M1DmA75Km7",
        "colab": {
          "base_uri": "https://localhost:8080/"
        },
        "outputId": "08c0eded-4863-47bd-992e-da48eb095c2b"
      },
      "outputs": [
        {
          "output_type": "stream",
          "name": "stdout",
          "text": [
            "The most common last name is: ['SMITH']\n",
            "All done!\n"
          ]
        }
      ],
      "source": [
        "\n",
        "from os.path import exists\n",
        "import pandas as pd\n",
        "\n",
        "# check if file can be found and open the file\n",
        "datafile = \"./sample_data/customers.csv\"\n",
        "if not exists(datafile):\n",
        "  raise SystemExit(\"You should run the first code cell and download the dataset files!\")\n",
        "\n",
        "# load dataframe\n",
        "df_customers = pd.read_csv(datafile)\n",
        "\n",
        "#------------------------------------------------------------------------------------------\n",
        "# 3- Get the state with most customers\n",
        "\n",
        "def cleanString(str):\n",
        "  return str.strip().upper()\n",
        "\n",
        "# clean LastName column\n",
        "df_customers['LastName'] = df_customers['LastName'].apply(cleanString)\n",
        "\n",
        "# get number of customers by LastName with value counts\n",
        "customers_by_lastname = df_customers['LastName'].value_counts().sort_values()\n",
        "\n",
        "# find the state with most customers\n",
        "min_customers = customers_by_lastname.max()\n",
        "states_most_customers = customers_by_lastname[customers_by_lastname == min_customers].index.tolist()\n",
        "\n",
        "\n",
        "print(\"The most common last name is:\", states_most_customers)\n",
        "print(\"All done!\")\n"
      ]
    },
    {
      "cell_type": "markdown",
      "metadata": {
        "id": "YPRma1t9NoFk"
      },
      "source": [
        "# Exercise 2: Processing Orders data (difficulty high)\n",
        "\n",
        "The second sample files contains orders placed by customers from the first file. Be careful, this file has many rows and you most likely should not print the contents of the whole file. \n",
        "\n",
        "The file contains the following columns: CustomerID, OrderID, Date, OrderTotal, ProductName, Price\n",
        "\n",
        "![Data sample](https://raw.githubusercontent.com/anyoneai/notebooks/main/customers_and_orders/images/orders.png)\n",
        "\n",
        "*Hint:* We advise you to take a look at the data before you start.\n",
        "**if you want to manually take a look at the data before you start, please see the content of the data [here](https://raw.githubusercontent.com/anyoneai/notebooks/main/customers_and_orders/data/orders.csv).\n",
        "\n",
        "*Hint*: There are many ways to do this exercise you can do your own, although here's some help. You can solve this exercise reading and parsing CSV files, structuring data into dictionaries, and using for loops to navigate the contents\n",
        "\n",
        "*Hint*: Also, the data is not clean and you will have to figure out how to deal with that data from the code, without having to modify the data source.\n",
        "\n",
        "\n",
        "\n",
        "**Question #1:** How many unique orders are in the orders.csv file?\n",
        "\n",
        "**Question #2:** What is the average number of items per order (rounded to two decimal places)?\n",
        "\n",
        "**Question #3:** What is the highest number of items per order?\n",
        "\n",
        "**Question #4:** What is the number of orders placed in October 2021?\n",
        "\n",
        "**Question #5:** Which customer spent the most amount of money in 2021?\n",
        "\n",
        "**Question #6:** Historically, what is the best month for sales?\n",
        "\n",
        "Once you get your answers, remember to go back to the course and introduce them in the multiple choice quiz"
      ]
    },
    {
      "cell_type": "code",
      "execution_count": 143,
      "metadata": {
        "id": "8ipJTrfs5QVM",
        "colab": {
          "base_uri": "https://localhost:8080/"
        },
        "outputId": "04b27ac7-d543-46a9-d122-16910c40d170"
      },
      "outputs": [
        {
          "output_type": "stream",
          "name": "stdout",
          "text": [
            "Number of unique orders: 16672\n"
          ]
        }
      ],
      "source": [
        "from os.path import exists\n",
        "import pandas as pd\n",
        "\n",
        "# check if file can be found and open the file\n",
        "datafile = \"./sample_data/orders.csv\"\n",
        "if not exists(datafile):\n",
        "  raise SystemExit(\"You should run the first code cell and download the dataset files!\")\n",
        "\n",
        "# load dataframe\n",
        "df_orders = pd.read_csv(datafile)\n",
        "\n",
        "#------------------------------------------------------------------------------------------\n",
        "# 1- count the unique orders of orders.csv\n",
        "unique_orders = df_orders['OrderID'].nunique()\n",
        "print(\"Number of unique orders:\", unique_orders)\n"
      ]
    },
    {
      "cell_type": "code",
      "source": [
        "from os.path import exists\n",
        "import pandas as pd\n",
        "\n",
        "# check if file can be found and open the file\n",
        "datafile = \"./sample_data/orders.csv\"\n",
        "if not exists(datafile):\n",
        "  raise SystemExit(\"You should run the first code cell and download the dataset files!\")\n",
        "\n",
        "df_orders = pd.read_csv(datafile)\n",
        "\n",
        "#------------------------------------------------------------------------------------------\n",
        "# 2- calculate the average number of items per order\n",
        "items = len(df_orders)\n",
        "unique_orders = df_orders['OrderID'].nunique()\n",
        "\n",
        "# having the number of items and the number of unique orders we calculate the average\n",
        "avg_items_per_order = items / unique_orders\n",
        "print(\"The average number of items per order is:\", round(avg_items_per_order, 2))\n",
        "\n"
      ],
      "metadata": {
        "colab": {
          "base_uri": "https://localhost:8080/"
        },
        "id": "9rEUq7AGNfhw",
        "outputId": "5524b108-da39-4638-ba52-2e1625a54fbe"
      },
      "execution_count": 144,
      "outputs": [
        {
          "output_type": "stream",
          "name": "stdout",
          "text": [
            "The average number of items per order is: 1.76\n"
          ]
        }
      ]
    },
    {
      "cell_type": "code",
      "source": [
        "from os.path import exists\n",
        "import pandas as pd\n",
        "\n",
        "# check if file can be found and open the file\n",
        "datafile = \"./sample_data/orders.csv\"\n",
        "if not exists(datafile):\n",
        "  raise SystemExit(\"You should run the first code cell and download the dataset files!\")\n",
        "\n",
        "df_orders = pd.read_csv(datafile)\n",
        "\n",
        "#------------------------------------------------------------------------------------------\n",
        "# 3- find the highest number of items per order\n",
        "# calculate the number of items per order\n",
        "items_per_order = df_orders.groupby('OrderID')['ProductName'].count()\n",
        "\n",
        "# I wanted to get both the highest number of items and id of the order which has it\n",
        "# so first I sort the orders by the number of items\n",
        "sorted_orders = items_per_order.sort_values(ascending=False)\n",
        "\n",
        "# then the first element will be the order with the highest number of items\n",
        "highest_items_order_id = sorted_orders.index[0]\n",
        "highest_items_order = items_per_order[highest_items_order_id]\n",
        "\n",
        "# finally I print the order ID and the highest number of items per order\n",
        "print('Order with Id = %s, has the highest number of items: %s' % (highest_items_order_id, highest_items_order))\n",
        "\n"
      ],
      "metadata": {
        "colab": {
          "base_uri": "https://localhost:8080/"
        },
        "id": "Rq_IIzx2Nkn0",
        "outputId": "6f41baf5-7258-4620-db84-8d421eedea1b"
      },
      "execution_count": 145,
      "outputs": [
        {
          "output_type": "stream",
          "name": "stdout",
          "text": [
            "Order with Id = 5802666, has the highest number of items: 35\n"
          ]
        }
      ]
    },
    {
      "cell_type": "code",
      "source": [
        "from os.path import exists\n",
        "import pandas as pd\n",
        "import datetime\n",
        "\n",
        "# check if file can be found and open the file\n",
        "datafile = \"./sample_data/orders.csv\"\n",
        "if not exists(datafile):\n",
        "  raise SystemExit(\"You should run the first code cell and download the dataset files!\")\n",
        "\n",
        "df_orders = pd.read_csv(datafile)\n",
        "\n",
        "#------------------------------------------------------------------------------------------\n",
        "# 4- find the number of orders placed in October 2021\n",
        "\n",
        "\n",
        "# first I convert the \"Date\" column to a datetime datatype, this will help to get the month \n",
        "df_orders['Date'] = pd.to_datetime(df_orders['Date'])\n",
        "\n",
        "# then I create a new dataframe with the information of 2021\n",
        "df_2021_year = df_orders.loc[df_orders['Date'].dt.year == 2021]\n",
        "\n",
        "# then I create a new column with the month extracted from the date\n",
        "df_2021_year['Month'] = df_2021_year['Date'].dt.month_name()\n",
        "\n",
        "# finally count the number of orders with \"October\" as the month in 2021, and because Im searching unique orders I put the nunique\n",
        "october_orders = df_2021_year[df_2021_year['Month'] == 'October']['OrderID'].nunique()\n",
        "\n",
        "print(\"The number of orders placed in October 2021 was:\", october_orders)\n",
        "print(\"All done!\")"
      ],
      "metadata": {
        "colab": {
          "base_uri": "https://localhost:8080/"
        },
        "id": "cieYbCZ8Nto1",
        "outputId": "c50d53c4-cfd6-4bfe-c811-c2ea6acfa024"
      },
      "execution_count": 166,
      "outputs": [
        {
          "output_type": "stream",
          "name": "stdout",
          "text": [
            "The number of orders placed in October 2021 was: 267\n",
            "All done!\n"
          ]
        },
        {
          "output_type": "stream",
          "name": "stderr",
          "text": [
            "<ipython-input-166-ffcf3787d33c>:23: SettingWithCopyWarning: \n",
            "A value is trying to be set on a copy of a slice from a DataFrame.\n",
            "Try using .loc[row_indexer,col_indexer] = value instead\n",
            "\n",
            "See the caveats in the documentation: https://pandas.pydata.org/pandas-docs/stable/user_guide/indexing.html#returning-a-view-versus-a-copy\n",
            "  df_2021_year['Month'] = df_2021_year['Date'].dt.month_name()\n"
          ]
        }
      ]
    },
    {
      "cell_type": "code",
      "source": [
        "from os.path import exists\n",
        "import pandas as pd\n",
        "import datetime\n",
        "\n",
        "# check if file can be found and open the file\n",
        "datafile = \"./sample_data/orders.csv\"\n",
        "if not exists(datafile):\n",
        "  raise SystemExit(\"You should run the first code cell and download the dataset files!\")\n",
        "\n",
        "df_orders = pd.read_csv(datafile)\n",
        "\n",
        "#------------------------------------------------------------------------------------------\n",
        "# Question #5: Which customer spent the most amount of money in 2021?\n",
        "# 5- Find the customer who spent the most amount of money in 2021\n",
        "\n",
        "# convert the OrderTotal column to numeric values\n",
        "df_orders['OrderTotal'] = pd.to_numeric(df_orders['OrderTotal'], errors='coerce')\n",
        "\n",
        "# convert the \"Date\" column to a datetime datatype\n",
        "df_orders['Date'] = pd.to_datetime(df_orders['Date'])\n",
        "\n",
        "# then I create a new dataframe with the information of 2021\n",
        "df_2021_year = df_orders[df_orders['Date'].dt.year == 2021]\n",
        "\n",
        "# drop duplicates which have the same  customerId and OrderID\n",
        "unique_orders = df_2021_year.drop_duplicates(subset=['CustomerID', 'OrderID'])\n",
        "\n",
        "# after getting the new dataframe I group the by customerID and sum the values in orderTotal\n",
        "customer_totals = unique_orders.groupby('CustomerID')['OrderTotal'].sum()\n",
        "\n",
        "# find the customer with the highest order total\n",
        "top_customer = customer_totals.idxmax()\n",
        "amount_top_customer = customer_totals.max()\n",
        "\n",
        "print(\"The customer who spent the most amount of money in 2021 was: %s, who spends about %s\" % (top_customer, amount_top_customer))\n",
        "print(\"All done!\")\n"
      ],
      "metadata": {
        "colab": {
          "base_uri": "https://localhost:8080/"
        },
        "id": "XXQMyW-VVN2m",
        "outputId": "2c1f1fbc-8b3a-4164-d20e-35d80a343551"
      },
      "execution_count": 192,
      "outputs": [
        {
          "output_type": "stream",
          "name": "stdout",
          "text": [
            "The customer who spent the most amount of money in 2021 was: 5172443, who spends about 7755.0\n",
            "All done!\n"
          ]
        }
      ]
    },
    {
      "cell_type": "code",
      "source": [
        "from os.path import exists\n",
        "import pandas as pd\n",
        "import datetime\n",
        "import calendar\n",
        "\n",
        "# check if file can be found and open the file\n",
        "datafile = \"./sample_data/orders.csv\"\n",
        "if not exists(datafile):\n",
        "  raise SystemExit(\"You should run the first code cell and download the dataset files!\")\n",
        "\n",
        "df_orders = pd.read_csv(datafile)\n",
        "\n",
        "#------------------------------------------------------------------------------------------\n",
        "# Historically, what is the best month for sales?\n",
        "# 6- Find the best month for sales\n",
        "\n",
        "# first I convert the \"Date\" column to a datetime datatype, this will help to get the month \n",
        "df_orders['Date'] = pd.to_datetime(df_orders['Date'])\n",
        "\n",
        "# drop duplicates which have the same  customerId and OrderID\n",
        "unique_orders = df_orders.drop_duplicates(subset=['CustomerID', 'OrderID'])\n",
        "\n",
        "# I group the orders by month then I calculate the total historically sales for each month to get the monthly sales\n",
        "monthly_sales = unique_orders.groupby(unique_orders['Date'].dt.month)['OrderTotal'].sum()\n",
        "\n",
        "# Find the month with the highest total sales\n",
        "best_month = monthly_sales.idxmax()\n",
        "# with the number of month i get the name of the month\n",
        "best_month_name = calendar.month_name[int(best_month)]\n",
        "\n",
        "# i also get the amount of the best month with .max function\n",
        "amount_best_month = monthly_sales.max()\n",
        "\n",
        "\n",
        "print(\"The best month for sales historically is %s with total sales of %s\" % (best_month_name, amount_best_month ) )\n",
        "\n",
        "\n",
        "print(\"All done!\")"
      ],
      "metadata": {
        "colab": {
          "base_uri": "https://localhost:8080/"
        },
        "id": "6DWtc-rzXvkl",
        "outputId": "b63db3dd-9d28-4eb7-baba-ea1e491b55da"
      },
      "execution_count": 196,
      "outputs": [
        {
          "output_type": "stream",
          "name": "stdout",
          "text": [
            "The best month for sales historically is January with total sales of 292908.0\n",
            "All done!\n"
          ]
        }
      ]
    },
    {
      "cell_type": "markdown",
      "metadata": {
        "id": "ie0JW4FAk6Os"
      },
      "source": [
        "# Finished!\n",
        "\n",
        "Hope this was not too difficult and slicing and dicing the datasets was some fun. Now head on back to the course and provide the answers to the questions from this exercise."
      ]
    }
  ],
  "metadata": {
    "colab": {
      "provenance": [],
      "include_colab_link": true
    },
    "kernelspec": {
      "display_name": "Python 3 (ipykernel)",
      "language": "python",
      "name": "python3"
    },
    "language_info": {
      "codemirror_mode": {
        "name": "ipython",
        "version": 3
      },
      "file_extension": ".py",
      "mimetype": "text/x-python",
      "name": "python",
      "nbconvert_exporter": "python",
      "pygments_lexer": "ipython3",
      "version": "3.9.9"
    }
  },
  "nbformat": 4,
  "nbformat_minor": 0
}